{
 "cells": [
  {
   "cell_type": "markdown",
   "metadata": {},
   "source": [
    "# How to make a Other DNA Structure\n",
    "\n",
    "Structures can also be built from paths, or as random placements.\n",
    "\n",
    "Paths can be used to seed a measured geometry, while random placements serve well when\n",
    "generating isotropic DNA damage measurements"
   ]
  },
  {
   "cell_type": "code",
   "execution_count": null,
   "metadata": {},
   "outputs": [],
   "source": [
    "import sys\n",
    "from pathlib import Path\n",
    "\n",
    "try:\n",
    "    # The voxelisation library produces the cubic voxelisation that\n",
    "    # can be used to build DNA\n",
    "    from fractaldna.structure_models import voxelisation as v\n",
    "    from fractaldna.structure_models import random_placements as rp\n",
    "\n",
    "except (ImportError, ModuleNotFoundError):\n",
    "    sys.path.append(str(Path.cwd().parent.parent.parent))\n",
    "    from fractaldna.structure_models import voxelisation as v\n",
    "    from fractaldna.structure_models import random_placements as rp\n",
    "\n",
    "import numpy as np\n",
    "import matplotlib.pyplot as plt\n",
    "from mpl_toolkits.mplot3d import Axes3D"
   ]
  },
  {
   "cell_type": "markdown",
   "metadata": {},
   "source": [
    "## Producing Voxels from Random Placements\n",
    "\n",
    "This method generates a random collection of prisms inside a ball.\n",
    "It places candidate prisms in the volume of interest, ensuring there are\n",
    "no overlaps.\n"
   ]
  },
  {
   "cell_type": "code",
   "execution_count": null,
   "metadata": {},
   "outputs": [],
   "source": [
    "placements = rp.generate_non_overlapping_prisms(\n",
    "    10, np.array([100, 100, 200]), 500, early_exit=-1, verbose=True\n",
    ")"
   ]
  },
  {
   "cell_type": "code",
   "execution_count": null,
   "metadata": {},
   "outputs": [],
   "source": [
    "# A single prism can be plotted as a diagnostic,\n",
    "# using random points inside the prism\n",
    "# Arrows show the cardinal axes of the prism\n",
    "\n",
    "placements.prisms[0].to_plot(n=500, arrows=True)"
   ]
  },
  {
   "cell_type": "code",
   "execution_count": null,
   "metadata": {},
   "outputs": [],
   "source": [
    "# Multiple prisms can be plotted together\n",
    "\n",
    "fig = plt.figure()\n",
    "ax = fig.add_subplot(111, projection=\"3d\")\n",
    "for prism in placements.prisms:\n",
    "    prism.to_plot(ax=ax)"
   ]
  },
  {
   "cell_type": "code",
   "execution_count": null,
   "metadata": {},
   "outputs": [],
   "source": [
    "# And the output can be extracted as a Data Frame\n",
    "placements.to_frame()"
   ]
  },
  {
   "cell_type": "code",
   "execution_count": null,
   "metadata": {},
   "outputs": [],
   "source": []
  }
 ],
 "metadata": {
  "language_info": {
   "name": "python",
   "pygments_lexer": "ipython3"
  }
 },
 "nbformat": 4,
 "nbformat_minor": 2
}
