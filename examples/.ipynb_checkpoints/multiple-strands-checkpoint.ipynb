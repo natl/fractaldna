{
 "cells": [
  {
   "cell_type": "markdown",
   "metadata": {},
   "source": [
    "# Make and visualise DNA Models\n",
    "*It is recommended that you run this example inside a Jupyter environment*\n",
    "*rather than a VSCode or similar environment*\n",
    "\n",
    "This requires the mayavi jupyter extension\n",
    "`jupyter nbextension install --py mayavi --user`"
   ]
  },
  {
   "cell_type": "code",
   "execution_count": null,
   "metadata": {},
   "outputs": [],
   "source": [
    "import mayavi\n",
    "import sys\n",
    "from pathlib import Path\n",
    "\n",
    "try:\n",
    "    from fractaldna.dna_models import dnachain as dna\n",
    "except (ImportError, ModuleNotFoundError):\n",
    "    sys.path.append(str(Path.cwd().parent))\n",
    "    from fractaldna.dna_models import dnachain as dna\n",
    "\n",
    "from mayavi import mlab\n",
    "\n",
    "mlab.init_notebook()"
   ]
  },
  {
   "cell_type": "markdown",
   "metadata": {},
   "source": [
    "# Making Multi-Strand DNA\n",
    "The module currently supports 2-, 4- and 8- strand multi-chains in different configurations"
   ]
  },
  {
   "cell_type": "code",
   "execution_count": null,
   "metadata": {},
   "outputs": [],
   "source": [
    "# Make a 40 base pair long DNA Strand\n",
    "chain = dna.FourStrandDNAChain(\"GTAC\" * 50, 50)\n",
    "# Generate a simple Matplotlib visualisation\n",
    "# The basic plot shows each molecule as a point\n",
    "plot = chain.to_plot()\n",
    "plot.gca().set_title(\"Basic Plot\")"
   ]
  },
  {
   "cell_type": "code",
   "execution_count": null,
   "metadata": {},
   "outputs": [],
   "source": [
    "# MayaVI can generate nicer plots, joining the strands together\n",
    "plot = chain.to_strand_plot()\n",
    "plot"
   ]
  },
  {
   "cell_type": "code",
   "execution_count": null,
   "metadata": {},
   "outputs": [],
   "source": [
    "# These can also be curved\n",
    "chain = dna.FourStrandTurnedDNAChain(\"GTAC\" * 50, 50)"
   ]
  },
  {
   "cell_type": "code",
   "execution_count": null,
   "metadata": {},
   "outputs": [],
   "source": [
    "plot = chain.to_strand_plot()\n",
    "plot"
   ]
  },
  {
   "cell_type": "code",
   "execution_count": null,
   "metadata": {},
   "outputs": [],
   "source": [
    "# And then loaded into a data frame\n",
    "chain.to_frame()"
   ]
  }
 ],
 "metadata": {
  "language_info": {
   "name": "python",
   "pygments_lexer": "ipython3"
  }
 },
 "nbformat": 4,
 "nbformat_minor": 4
}
