{
 "cells": [
  {
   "cell_type": "markdown",
   "metadata": {},
   "source": [
    "# Making Single Strand DNA Models\n",
    "*It is recommended that you run this example inside a Jupyter environment*\n",
    "*rather than a VSCode or similar environment*\n",
    "\n",
    "This requires the mayavi jupyter extension\n",
    "`jupyter nbextension install --py mayavi --user`"
   ]
  },
  {
   "cell_type": "code",
   "execution_count": null,
   "metadata": {},
   "outputs": [],
   "source": [
    "import sys\n",
    "from pathlib import Path\n",
    "\n",
    "try:\n",
    "    from fractaldna.dna_models import dnachain as dna\n",
    "except (ImportError, ModuleNotFoundError):\n",
    "    # Path modifications if working straight out of the git repo.\n",
    "    sys.path.append(str(Path.cwd().parent.parent.parent))\n",
    "    from fractaldna.dna_models import dnachain as dna\n",
    "\n",
    "from mayavi import mlab\n",
    "\n",
    "# Disable this option for interactive rendering\n",
    "mlab.options.offscreen = True\n",
    "\n",
    "# Enable this option for an interactive notebook\n",
    "# mlab.init_notebook()"
   ]
  },
  {
   "cell_type": "markdown",
   "metadata": {},
   "source": [
    "## Making and plotting a single DNA strand"
   ]
  },
  {
   "cell_type": "code",
   "execution_count": null,
   "metadata": {},
   "outputs": [],
   "source": [
    "# Make a 40 base pair long DNA Strand\n",
    "chain = dna.DNAChain(\"GTAC\" * 10)\n",
    "# Generate a simple Matplotlib visualisation\n",
    "# The basic plot shows each molecule as a point\n",
    "plot = chain.to_plot()\n",
    "plot.gca().set_title(\"Basic Plot\")\n",
    "\n",
    "# You can also hide certain molecules (b = base, s=sugar, p=phosphate)\n",
    "plot_phosphate = chain.to_plot(plot_b=False, plot_s=False, plot_p=True)\n",
    "plot_phosphate.gca().set_title(\"Phosptate Only Plot\")\n",
    "\n",
    "# The surface plot plots each DNA molecule as a ball\n",
    "plot_surface = chain.to_surface_plot()\n",
    "plot_surface.gca().set_title(\"Surface Plot\")"
   ]
  },
  {
   "cell_type": "markdown",
   "metadata": {},
   "source": [
    "## Generating pretty plots with MayaVI"
   ]
  },
  {
   "cell_type": "code",
   "execution_count": null,
   "metadata": {},
   "outputs": [],
   "source": [
    "# MayaVI can generate nicer plots, joining the strands together\n",
    "plot = chain.to_strand_plot()\n",
    "plot.scene.save_jpg(\"single_strand_strand_plot.jpg\")"
   ]
  },
  {
   "cell_type": "markdown",
   "metadata": {},
   "source": [
    "![](single_strand_strand_plot.jpg)"
   ]
  },
  {
   "cell_type": "code",
   "execution_count": null,
   "metadata": {},
   "outputs": [],
   "source": [
    "# Or you can just plot the path of the entire block of dna, which looks better for a curved chain\n",
    "chain = dna.TurnedDNAChain(\"GATC\" * 40)\n",
    "plot = chain.to_line_plot()\n",
    "plot.scene.save_jpg(\"single_turned_strand_line_plot.jpg\")"
   ]
  },
  {
   "cell_type": "markdown",
   "metadata": {},
   "source": [
    "![](single_turned_strand_line_plot.jpg)"
   ]
  },
  {
   "cell_type": "code",
   "execution_count": null,
   "metadata": {},
   "outputs": [],
   "source": [
    "plot = chain.to_strand_plot()\n",
    "plot.scene.save_jpg(\"single_turned_strand_strand_plot.jpg\")"
   ]
  },
  {
   "cell_type": "markdown",
   "metadata": {},
   "source": [
    "![](single_turned_strand_strand_plot.jpg)"
   ]
  },
  {
   "cell_type": "markdown",
   "metadata": {},
   "source": [
    "## Exporting a DNA strand as text"
   ]
  },
  {
   "cell_type": "code",
   "execution_count": null,
   "metadata": {},
   "outputs": [],
   "source": [
    "# The chain can be converted to a text stream for saving\n",
    "print(chain.to_text()[:1000], \"...\")"
   ]
  },
  {
   "cell_type": "code",
   "execution_count": null,
   "metadata": {},
   "outputs": [],
   "source": [
    "# Or a DataFrame\n",
    "chain.to_frame()"
   ]
  },
  {
   "cell_type": "code",
   "execution_count": null,
   "metadata": {},
   "outputs": [],
   "source": []
  }
 ],
 "metadata": {
  "language_info": {
   "name": "python",
   "pygments_lexer": "ipython3"
  }
 },
 "nbformat": 4,
 "nbformat_minor": 4
}
